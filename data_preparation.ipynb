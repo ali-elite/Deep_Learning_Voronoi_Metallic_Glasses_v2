{
 "cells": [
  {
   "cell_type": "markdown",
   "id": "d0267e1e",
   "metadata": {
    "pycharm": {
     "name": "#%% md\n"
    }
   },
   "source": [
    "## This notebook is about data preparation to make a NeuralNetwork to analyze some metallglasses. we start by reading atoms positions from the lapmmps output file. then we make seprate files for each step in lammps output. we use no header files to calculate voroni analyizes of the atoms using voro++ library. then we make a whole dataframe with atoms, their positions and their 20-nearest-neighbours. ##"
   ]
  },
  {
   "cell_type": "markdown",
   "id": "4347fa38",
   "metadata": {
    "pycharm": {
     "name": "#%% md\n"
    }
   },
   "source": [
    "### Import liberies and os ###"
   ]
  },
  {
   "cell_type": "code",
   "execution_count": 1,
   "id": "6026f584",
   "metadata": {
    "pycharm": {
     "name": "#%%\n"
    }
   },
   "outputs": [],
   "source": [
    "import numpy as np\n",
    "import pandas as pd\n",
    "import os"
   ]
  },
  {
   "cell_type": "markdown",
   "id": "ecd8a2ad",
   "metadata": {
    "pycharm": {
     "name": "#%% md\n"
    }
   },
   "source": [
    "### function which is used in calcualting distances for first 20-nearest-neighbours ###"
   ]
  },
  {
   "cell_type": "code",
   "execution_count": 2,
   "id": "3fe8e4bb",
   "metadata": {
    "pycharm": {
     "name": "#%%\n"
    }
   },
   "outputs": [],
   "source": [
    "def calculate_distance(x1, y1, z1, x2, y2, z2):\n",
    "    return ((x1 - x2) ** 2 + (y1 - y2) ** 2 + (z1 - z2) ** 2) ** 0.5, x2, y2, z2\n"
   ]
  },
  {
   "cell_type": "markdown",
   "id": "dfb2076a",
   "metadata": {
    "pycharm": {
     "name": "#%% md\n"
    }
   },
   "source": [
    "### function which is used in voro++ library to make a file with .vol format ###"
   ]
  },
  {
   "cell_type": "code",
   "execution_count": 3,
   "id": "83ae98c1",
   "metadata": {
    "pycharm": {
     "name": "#%%\n"
    }
   },
   "outputs": [],
   "source": [
    "def run_voro(filename, xmin, xmax, ymin, ymax, zmin, zmax):\n",
    "    VORO_INPUT_PATH = 'Lammps_Steps_No_Header/no_header_' + filename\n",
    "    voro_command = f'voro++ -c \"%i %s %A %v\" -o -v -r {xmin - 1} {float(xmax + 1)} {ymin - 1} {float(ymax + 1)} {zmin - 1} {float(zmax + 1)} {VORO_INPUT_PATH}'\n",
    "    os.system(voro_command)"
   ]
  },
  {
   "cell_type": "code",
   "execution_count": 4,
   "id": "8d59f447",
   "metadata": {
    "pycharm": {
     "name": "#%%\n"
    }
   },
   "outputs": [],
   "source": [
    "ATOM_NUMBER_IN_EACH_CELL=13500\n",
    "DEATIL_LINES=9\n",
    "CU_RADIUS = 1.28\n",
    "ZR_RADIUS = 1.60"
   ]
  },
  {
   "cell_type": "markdown",
   "id": "f8e5d864",
   "metadata": {
    "pycharm": {
     "name": "#%% md\n"
    }
   },
   "source": [
    "### Below cell seprate each step from the main lammps output. each file has (atom number in each cell + detail) lines ###"
   ]
  },
  {
   "cell_type": "code",
   "execution_count": 31,
   "id": "1b4ac95e",
   "metadata": {
    "pycharm": {
     "name": "#%%\n"
    }
   },
   "outputs": [],
   "source": [
    "lines_per_file = ATOM_NUMBER_IN_EACH_CELL + DEATIL_LINES\n",
    "smallfile = None\n",
    "file_counter = 1\n",
    "with open('Data/LAMMPS_OUTPUT.lammpsTrj') as bigfile:\n",
    "    for lineno, line in enumerate(bigfile):\n",
    "        if lineno % lines_per_file == 0:\n",
    "            if smallfile:\n",
    "                smallfile.close()\n",
    "            small_filename = 'Lammps_Step_{}.txt'.format(file_counter)\n",
    "            file_counter = file_counter + 1\n",
    "            smallfile = open('Lammps_Steps/' + small_filename, \"w\")\n",
    "        smallfile.write(line)\n",
    "    if smallfile:\n",
    "        smallfile.close()"
   ]
  },
  {
   "cell_type": "markdown",
   "id": "1de35522",
   "metadata": {
    "pycharm": {
     "name": "#%% md\n"
    }
   },
   "source": [
    "### below cell is about removing first 9 lines from every lammp_step file and save it in anoter directory called Lammps_Steps_No_Header ###"
   ]
  },
  {
   "cell_type": "code",
   "execution_count": 9,
   "id": "742003bc",
   "metadata": {
    "pycharm": {
     "name": "#%%\n"
    }
   },
   "outputs": [],
   "source": [
    "lammps_directory = 'Lammps_Steps'\n",
    "lammps_no_header_directory = 'Lammps_Steps_No_Header'\n",
    "for filename in os.listdir(lammps_directory):\n",
    "    if filename.startswith('Lammps'):\n",
    "        with open(os.path.join(lammps_directory, filename)) as f:\n",
    "            lammps_out_file = f.readlines()\n",
    "            lammps_out_file = lammps_out_file[9:]\n",
    "            lammps_out_file_final = []\n",
    "            for l in lammps_out_file:\n",
    "                l_parts = l.split(\" \")\n",
    "                l_parts = l_parts[0:5]\n",
    "                l_type = int(l_parts.pop(1))\n",
    "                if l_type == 1:\n",
    "                    l_parts.append(str(CU_RADIUS))\n",
    "                else:\n",
    "                    l_parts.append(str(ZR_RADIUS))\n",
    "                lammps_out_file_final.append(' '.join(l_parts))\n",
    "                lammps_out_file_final.append('\\n')\n",
    "            with open(lammps_no_header_directory + '/' + 'no_header_' + filename, \"w\") as new_f:\n",
    "                for line in lammps_out_file_final:\n",
    "                    new_f.write(line)        "
   ]
  },
  {
   "cell_type": "markdown",
   "id": "bba5b735",
   "metadata": {
    "pycharm": {
     "name": "#%% md\n"
    }
   },
   "source": [
    "### Below cell is about seprating boundries from every lammps_step file and pass it through run_voro function to have the voroni analyze result in .vol file"
   ]
  },
  {
   "cell_type": "code",
   "execution_count": 10,
   "id": "2057f1cd",
   "metadata": {
    "pycharm": {
     "name": "#%%\n"
    }
   },
   "outputs": [
    {
     "name": "stdout",
     "output_type": "stream",
     "text": [
      "Container geometry        : [-4.68798:57.188] [-4.68798:57.188] [-4.68798:57.188]\n",
      "Computational grid size   : 14 by 14 by 14 (estimated from file)\n",
      "Filename                  : Lammps_Steps_No_Header/no_header_Lammps_Step_6.txt\n",
      "Output string             : %i %s %A %v\n",
      "Total imported particles  : 13500 (4.9 per grid block)\n",
      "Total V. cells computed   : 13500\n",
      "Total container volume    : 236901\n",
      "Total V. cell volume      : 236901\n",
      "Container geometry        : [-4.70204:57.202] [-4.70204:57.202] [-4.70204:57.202]\n",
      "Computational grid size   : 14 by 14 by 14 (estimated from file)\n",
      "Filename                  : Lammps_Steps_No_Header/no_header_Lammps_Step_10.txt\n",
      "Output string             : %i %s %A %v\n",
      "Total imported particles  : 13500 (4.9 per grid block)\n",
      "Total V. cells computed   : 13500\n",
      "Total container volume    : 237223\n",
      "Total V. cell volume      : 237223\n",
      "Container geometry        : [-4.70283:57.2028] [-4.70283:57.2028] [-4.70283:57.2028]\n",
      "Computational grid size   : 14 by 14 by 14 (estimated from file)\n",
      "Filename                  : Lammps_Steps_No_Header/no_header_Lammps_Step_2.txt\n",
      "Output string             : %i %s %A %v\n",
      "Total imported particles  : 13500 (4.9 per grid block)\n",
      "Total V. cells computed   : 13500\n",
      "Total container volume    : 237241\n",
      "Total V. cell volume      : 237241\n",
      "Container geometry        : [-4.69581:57.1958] [-4.69581:57.1958] [-4.69581:57.1958]\n",
      "Computational grid size   : 14 by 14 by 14 (estimated from file)\n",
      "Filename                  : Lammps_Steps_No_Header/no_header_Lammps_Step_8.txt\n",
      "Output string             : %i %s %A %v\n",
      "Total imported particles  : 13500 (4.9 per grid block)\n",
      "Total V. cells computed   : 13500\n",
      "Total container volume    : 237080\n",
      "Total V. cell volume      : 237080\n",
      "Container geometry        : [-4.70072:57.2007] [-4.70072:57.2007] [-4.70072:57.2007]\n",
      "Computational grid size   : 14 by 14 by 14 (estimated from file)\n",
      "Filename                  : Lammps_Steps_No_Header/no_header_Lammps_Step_9.txt\n",
      "Output string             : %i %s %A %v\n",
      "Total imported particles  : 13500 (4.9 per grid block)\n",
      "Total V. cells computed   : 13500\n",
      "Total container volume    : 237193\n",
      "Total V. cell volume      : 237193\n",
      "Container geometry        : [-4.69043:57.1904] [-4.69043:57.1904] [-4.69043:57.1904]\n",
      "Computational grid size   : 14 by 14 by 14 (estimated from file)\n",
      "Filename                  : Lammps_Steps_No_Header/no_header_Lammps_Step_7.txt\n",
      "Output string             : %i %s %A %v\n",
      "Total imported particles  : 13500 (4.9 per grid block)\n",
      "Total V. cells computed   : 13500\n",
      "Total container volume    : 236956\n",
      "Total V. cell volume      : 236956\n",
      "Container geometry        : [-4.6954:57.1954] [-4.6954:57.1954] [-4.6954:57.1954]\n",
      "Computational grid size   : 14 by 14 by 14 (estimated from file)\n",
      "Filename                  : Lammps_Steps_No_Header/no_header_Lammps_Step_4.txt\n",
      "Output string             : %i %s %A %v\n",
      "Total imported particles  : 13500 (4.9 per grid block)\n",
      "Total V. cells computed   : 13500\n",
      "Total container volume    : 237071\n",
      "Total V. cell volume      : 237071\n",
      "Container geometry        : [-4.70037:57.2004] [-4.70037:57.2004] [-4.70037:57.2004]\n",
      "Computational grid size   : 14 by 14 by 14 (estimated from file)\n",
      "Filename                  : Lammps_Steps_No_Header/no_header_Lammps_Step_1.txt\n",
      "Output string             : %i %s %A %v\n",
      "Total imported particles  : 13500 (4.9 per grid block)\n",
      "Total V. cells computed   : 13500\n",
      "Total container volume    : 237186\n",
      "Total V. cell volume      : 237186\n",
      "Container geometry        : [-4.69005:57.19] [-4.69005:57.19] [-4.69005:57.19]\n",
      "Computational grid size   : 14 by 14 by 14 (estimated from file)\n",
      "Filename                  : Lammps_Steps_No_Header/no_header_Lammps_Step_5.txt\n",
      "Output string             : %i %s %A %v\n",
      "Total imported particles  : 13500 (4.9 per grid block)\n",
      "Total V. cells computed   : 13500\n",
      "Total container volume    : 236947\n",
      "Total V. cell volume      : 236947\n",
      "Container geometry        : [-4.70076:57.2008] [-4.70076:57.2008] [-4.70076:57.2008]\n",
      "Computational grid size   : 14 by 14 by 14 (estimated from file)\n",
      "Filename                  : Lammps_Steps_No_Header/no_header_Lammps_Step_3.txt\n",
      "Output string             : %i %s %A %v\n",
      "Total imported particles  : 13500 (4.9 per grid block)\n",
      "Total V. cells computed   : 13500\n",
      "Total container volume    : 237195\n",
      "Total V. cell volume      : 237195\n",
      "Container geometry        : [-4.69896:57.199] [-4.69896:57.199] [-4.69896:57.199]\n",
      "Computational grid size   : 14 by 14 by 14 (estimated from file)\n",
      "Filename                  : Lammps_Steps_No_Header/no_header_Lammps_Step_11.txt\n",
      "Output string             : %i %s %A %v\n",
      "Total imported particles  : 13500 (4.9 per grid block)\n",
      "Total V. cells computed   : 13500\n",
      "Total container volume    : 237153\n",
      "Total V. cell volume      : 237153\n"
     ]
    }
   ],
   "source": [
    "lammps_directory = 'Lammps_Steps'\n",
    "for filename in os.listdir(lammps_directory):\n",
    "    if filename.endswith('.txt'):\n",
    "        with open(os.path.join(lammps_directory, filename)) as f:\n",
    "            lammps_out_file = f.read()\n",
    "        boundaries = lammps_out_file.split(\"\\n\")[5:8]\n",
    "        xmin, xmax = boundaries[0].split()\n",
    "        ymin, ymax = boundaries[1].split()\n",
    "        zmin, zmax = boundaries[2].split()\n",
    "        run_voro(filename, float(xmin), float(xmax), float(ymin), float(ymax), float(zmin), float(zmax))"
   ]
  },
  {
   "cell_type": "markdown",
   "id": "3db32474",
   "metadata": {},
   "source": [
    "### Below cell is about making voro++ output for each atom vectors with same length."
   ]
  },
  {
   "cell_type": "code",
   "execution_count": 6,
   "id": "988ecba9",
   "metadata": {},
   "outputs": [],
   "source": [
    "lammps_no_header_directory = 'Lammps_Steps_No_Header'\n",
    "for filename in os.listdir(lammps_no_header_directory):\n",
    "    if filename.startswith('no') and filename.endswith('.vol'):\n",
    "        with open(os.path.join(lammps_no_header_directory, filename)) as f:\n",
    "            lammps_out_file = f.readlines()\n",
    "            lammps_out_file_final = []\n",
    "            for l in lammps_out_file:\n",
    "                l_parts = l.split(\" \")\n",
    "                l_parts_last = l_parts.copy()[-1]\n",
    "                l_parts = l_parts[0:len(l_parts) - 1]\n",
    "                for s in range(len(l_parts) - 1, 14):\n",
    "                    l_parts.append(str(0))\n",
    "                l_parts.append(l_parts_last.replace(\"\\n\", ''))\n",
    "                lammps_out_file_final.append(' '.join(l_parts))\n",
    "                lammps_out_file_final.append('\\n')\n",
    "            with open(lammps_no_header_directory + '/' + 'claer_' + filename, \"w\") as new_f:\n",
    "                for line in lammps_out_file_final:\n",
    "                    new_f.write(line)"
   ]
  },
  {
   "cell_type": "markdown",
   "id": "12c31f2e",
   "metadata": {
    "pycharm": {
     "name": "#%% md\n"
    }
   },
   "source": [
    "### below cell is about making a whole dataframe for each step. first we calculate all distances from all atoms for every atom in the step file. then we sort the result list and append the IDs and their coordinatios. at the end we append every voroni index to dataframe using its result from the last cell.\n",
    "## we can make a loop from it but it takes about 20 minuts for every step to procces with 13500 input atoms. so for better experince I think it's better to keep it like that and change the df 's input csv's index manually.\n",
    "\n",
    "## PS:This version is about making little cube out of the sample with about 50 atoms on it."
   ]
  },
  {
   "cell_type": "code",
   "execution_count": 5,
   "id": "8ff6c56a",
   "metadata": {
    "pycharm": {
     "name": "#%%\n"
    }
   },
   "outputs": [
    {
     "name": "stdout",
     "output_type": "stream",
     "text": [
      "56\n",
      "185.0\n",
      "454.0\n",
      "651.0\n",
      "1006.0\n",
      "1009.0\n",
      "1516.0\n",
      "1590.0\n",
      "1677.0\n",
      "1956.0\n",
      "2141.0\n",
      "2814.0\n",
      "3107.0\n",
      "3160.0\n",
      "3208.0\n",
      "3219.0\n",
      "3816.0\n",
      "3971.0\n",
      "4080.0\n",
      "4236.0\n",
      "4732.0\n",
      "5119.0\n",
      "5180.0\n",
      "5464.0\n",
      "5574.0\n",
      "5660.0\n",
      "5899.0\n",
      "6108.0\n",
      "6305.0\n",
      "6441.0\n",
      "6702.0\n",
      "6794.0\n",
      "6820.0\n",
      "7321.0\n",
      "7490.0\n",
      "8081.0\n",
      "8245.0\n",
      "8451.0\n",
      "8539.0\n",
      "8697.0\n",
      "8772.0\n",
      "8910.0\n",
      "8917.0\n",
      "9391.0\n",
      "10330.0\n",
      "10670.0\n",
      "11218.0\n",
      "11635.0\n",
      "12156.0\n",
      "12507.0\n",
      "12575.0\n",
      "12624.0\n",
      "12735.0\n",
      "13122.0\n",
      "13242.0\n",
      "13337.0\n",
      "13399.0\n"
     ]
    }
   ],
   "source": [
    "import numpy as np\n",
    "\n",
    "lammps_df = pd.read_csv('Lammps_Steps_No_Header/no_header_Lammps_Step_1.txt', sep=\" \", header=None,)\n",
    "face_order_df = pd.read_csv(\"Lammps_Steps_No_Header/claer_no_header_Lammps_Step_1.txt.vol\", sep=\" \", header=None,)\n",
    "lammps = lammps_df.to_numpy()\n",
    "\n",
    "little_lamps = np.array(lammps, copy=True)\n",
    "\n",
    "some_l = []\n",
    "for s in little_lamps:\n",
    "    if s[1] > -5.5 and s[2] > -5.5 and s[3] > -3.45:\n",
    "        some_l.append(int(s[0] - 1))\n",
    "\n",
    "little_lamps = np.delete(little_lamps, some_l, axis=0)\n",
    "print(len(little_lamps))\n",
    "\n",
    "\n",
    "titles = ['id', 'x', 'y', 'z', 'type']\n",
    "\n",
    "\n",
    "for i in range(1, 56):\n",
    "    titles.append(str(i) + '-neighbour id')\n",
    "    titles.append(str(i) + '-neighbour type')\n",
    "    titles.append(str(i) + '-neighbour x')\n",
    "    titles.append(str(i) + '-neighbour y')\n",
    "    titles.append(str(i) + '-neighbour z')\n",
    "\n",
    "titles.append('nb')\n",
    "titles.append('1-faced')\n",
    "titles.append('2-faced')\n",
    "titles.append('3-faced')\n",
    "titles.append('4-faced')\n",
    "titles.append('5-faced')\n",
    "titles.append('6-faced')\n",
    "titles.append('7-faced')\n",
    "titles.append('8-faced')\n",
    "titles.append('9-faced')\n",
    "titles.append('10-faced')\n",
    "titles.append('11-faced')\n",
    "titles.append('12-faced')\n",
    "titles.append('13-faced')\n",
    "\n",
    "list = []\n",
    "for i in little_lamps:\n",
    "    distance_dict = dict()\n",
    "    coords_dict = dict\n",
    "    for j in little_lamps:\n",
    "        if i[0] == j[0]:\n",
    "            pass\n",
    "        else:\n",
    "            distance_dict[j[0]] = calculate_distance(i[1], i[2], i[3], j[1], j[2], j[3])\n",
    "\n",
    "    sorted_distance_dict = dict(sorted(distance_dict.items(), key=lambda item: item[1]))\n",
    "    result = []\n",
    "\n",
    "\n",
    "    for h in range(0, 55):\n",
    "        id = int([*sorted_distance_dict][h])\n",
    "        result.append(id)\n",
    "        result.append(lammps_df[4].values[id - 1])\n",
    "        result.append(lammps_df[1].values[id - 1])\n",
    "        result.append(lammps_df[2].values[id - 1])\n",
    "        result.append(lammps_df[3].values[id - 1])\n",
    "\n",
    "    result.append(face_order_df[1].values[int(i[0]) - 1])\n",
    "    result.append(face_order_df[2].values[int(i[0]) - 1])\n",
    "    result.append(face_order_df[3].values[int(i[0]) - 1])\n",
    "    result.append(face_order_df[4].values[int(i[0]) - 1])\n",
    "    result.append(face_order_df[5].values[int(i[0]) - 1])\n",
    "    result.append(face_order_df[6].values[int(i[0]) - 1])\n",
    "    result.append(face_order_df[7].values[int(i[0]) - 1])\n",
    "    result.append(face_order_df[8].values[int(i[0]) - 1])\n",
    "    result.append(face_order_df[9].values[int(i[0]) - 1])\n",
    "    result.append(face_order_df[10].values[int(i[0]) - 1])\n",
    "    result.append(face_order_df[11].values[int(i[0]) - 1])\n",
    "    result.append(face_order_df[12].values[int(i[0]) - 1])\n",
    "    result.append(face_order_df[13].values[int(i[0]) - 1])\n",
    "    result.append(face_order_df[14].values[int(i[0]) - 1])\n",
    "\n",
    "    list.append(result)\n",
    "    print(i[0])\n",
    "\n",
    "little_lamps = np.hstack((little_lamps, list))\n",
    "little_lamps = pd.DataFrame(little_lamps, columns=titles).to_csv('Output/output_little.csv', index=False)"
   ]
  }
 ],
 "metadata": {
  "kernelspec": {
   "display_name": "Python 3 (ipykernel)",
   "language": "python",
   "name": "python3"
  },
  "language_info": {
   "codemirror_mode": {
    "name": "ipython",
    "version": 3
   },
   "file_extension": ".py",
   "mimetype": "text/x-python",
   "name": "python",
   "nbconvert_exporter": "python",
   "pygments_lexer": "ipython3",
   "version": "3.9.6"
  }
 },
 "nbformat": 4,
 "nbformat_minor": 5
}
