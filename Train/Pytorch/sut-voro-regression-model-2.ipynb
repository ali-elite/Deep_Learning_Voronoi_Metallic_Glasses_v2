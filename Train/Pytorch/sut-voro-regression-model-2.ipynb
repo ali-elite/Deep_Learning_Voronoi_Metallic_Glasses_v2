{
 "cells": [
  {
   "cell_type": "code",
   "execution_count": 2,
   "metadata": {},
   "outputs": [
    {
     "data": {
      "text/html": [
       "<div>\n",
       "<style scoped>\n",
       "    .dataframe tbody tr th:only-of-type {\n",
       "        vertical-align: middle;\n",
       "    }\n",
       "\n",
       "    .dataframe tbody tr th {\n",
       "        vertical-align: top;\n",
       "    }\n",
       "\n",
       "    .dataframe thead th {\n",
       "        text-align: right;\n",
       "    }\n",
       "</style>\n",
       "<table border=\"1\" class=\"dataframe\">\n",
       "  <thead>\n",
       "    <tr style=\"text-align: right;\">\n",
       "      <th></th>\n",
       "      <th>x</th>\n",
       "      <th>y</th>\n",
       "      <th>z</th>\n",
       "      <th>type</th>\n",
       "      <th>1-neighbour type</th>\n",
       "      <th>1-neighbour x</th>\n",
       "      <th>1-neighbour y</th>\n",
       "      <th>1-neighbour z</th>\n",
       "      <th>2-neighbour type</th>\n",
       "      <th>2-neighbour x</th>\n",
       "      <th>...</th>\n",
       "      <th>4-faced</th>\n",
       "      <th>5-faced</th>\n",
       "      <th>6-faced</th>\n",
       "      <th>7-faced</th>\n",
       "      <th>8-faced</th>\n",
       "      <th>9-faced</th>\n",
       "      <th>10-faced</th>\n",
       "      <th>11-faced</th>\n",
       "      <th>12-faced</th>\n",
       "      <th>13-faced</th>\n",
       "    </tr>\n",
       "  </thead>\n",
       "  <tbody>\n",
       "    <tr>\n",
       "      <th>0</th>\n",
       "      <td>26.0291</td>\n",
       "      <td>54.9202</td>\n",
       "      <td>24.4540</td>\n",
       "      <td>1.28</td>\n",
       "      <td>1.28</td>\n",
       "      <td>26.7424</td>\n",
       "      <td>53.8812</td>\n",
       "      <td>22.4257</td>\n",
       "      <td>1.60</td>\n",
       "      <td>23.7794</td>\n",
       "      <td>...</td>\n",
       "      <td>1.0</td>\n",
       "      <td>3.0</td>\n",
       "      <td>4.0</td>\n",
       "      <td>4.0</td>\n",
       "      <td>1.0</td>\n",
       "      <td>0.0</td>\n",
       "      <td>0.0</td>\n",
       "      <td>0.0</td>\n",
       "      <td>0.0</td>\n",
       "      <td>0.0</td>\n",
       "    </tr>\n",
       "    <tr>\n",
       "      <th>1</th>\n",
       "      <td>42.4982</td>\n",
       "      <td>36.7826</td>\n",
       "      <td>37.0707</td>\n",
       "      <td>1.60</td>\n",
       "      <td>1.28</td>\n",
       "      <td>44.2310</td>\n",
       "      <td>38.3539</td>\n",
       "      <td>35.8460</td>\n",
       "      <td>1.28</td>\n",
       "      <td>40.5901</td>\n",
       "      <td>...</td>\n",
       "      <td>0.0</td>\n",
       "      <td>1.0</td>\n",
       "      <td>10.0</td>\n",
       "      <td>4.0</td>\n",
       "      <td>0.0</td>\n",
       "      <td>0.0</td>\n",
       "      <td>0.0</td>\n",
       "      <td>0.0</td>\n",
       "      <td>0.0</td>\n",
       "      <td>0.0</td>\n",
       "    </tr>\n",
       "    <tr>\n",
       "      <th>2</th>\n",
       "      <td>44.3755</td>\n",
       "      <td>24.9085</td>\n",
       "      <td>17.9155</td>\n",
       "      <td>1.60</td>\n",
       "      <td>1.28</td>\n",
       "      <td>43.8712</td>\n",
       "      <td>22.7444</td>\n",
       "      <td>16.3405</td>\n",
       "      <td>1.28</td>\n",
       "      <td>41.8245</td>\n",
       "      <td>...</td>\n",
       "      <td>1.0</td>\n",
       "      <td>1.0</td>\n",
       "      <td>9.0</td>\n",
       "      <td>4.0</td>\n",
       "      <td>2.0</td>\n",
       "      <td>0.0</td>\n",
       "      <td>0.0</td>\n",
       "      <td>0.0</td>\n",
       "      <td>0.0</td>\n",
       "      <td>0.0</td>\n",
       "    </tr>\n",
       "    <tr>\n",
       "      <th>3</th>\n",
       "      <td>53.9179</td>\n",
       "      <td>13.2666</td>\n",
       "      <td>54.6982</td>\n",
       "      <td>1.28</td>\n",
       "      <td>1.28</td>\n",
       "      <td>51.7705</td>\n",
       "      <td>14.4300</td>\n",
       "      <td>53.9390</td>\n",
       "      <td>1.28</td>\n",
       "      <td>52.5371</td>\n",
       "      <td>...</td>\n",
       "      <td>1.0</td>\n",
       "      <td>3.0</td>\n",
       "      <td>3.0</td>\n",
       "      <td>3.0</td>\n",
       "      <td>0.0</td>\n",
       "      <td>0.0</td>\n",
       "      <td>0.0</td>\n",
       "      <td>0.0</td>\n",
       "      <td>0.0</td>\n",
       "      <td>0.0</td>\n",
       "    </tr>\n",
       "    <tr>\n",
       "      <th>4</th>\n",
       "      <td>30.7815</td>\n",
       "      <td>28.6099</td>\n",
       "      <td>25.9021</td>\n",
       "      <td>1.28</td>\n",
       "      <td>1.28</td>\n",
       "      <td>31.8357</td>\n",
       "      <td>30.5916</td>\n",
       "      <td>25.3170</td>\n",
       "      <td>1.28</td>\n",
       "      <td>28.2009</td>\n",
       "      <td>...</td>\n",
       "      <td>0.0</td>\n",
       "      <td>0.0</td>\n",
       "      <td>12.0</td>\n",
       "      <td>0.0</td>\n",
       "      <td>0.0</td>\n",
       "      <td>0.0</td>\n",
       "      <td>0.0</td>\n",
       "      <td>0.0</td>\n",
       "      <td>0.0</td>\n",
       "      <td>0.0</td>\n",
       "    </tr>\n",
       "  </tbody>\n",
       "</table>\n",
       "<p>5 rows × 98 columns</p>\n",
       "</div>"
      ],
      "text/plain": [
       "         x        y        z  type  1-neighbour type  1-neighbour x  \\\n",
       "0  26.0291  54.9202  24.4540  1.28              1.28        26.7424   \n",
       "1  42.4982  36.7826  37.0707  1.60              1.28        44.2310   \n",
       "2  44.3755  24.9085  17.9155  1.60              1.28        43.8712   \n",
       "3  53.9179  13.2666  54.6982  1.28              1.28        51.7705   \n",
       "4  30.7815  28.6099  25.9021  1.28              1.28        31.8357   \n",
       "\n",
       "   1-neighbour y  1-neighbour z  2-neighbour type  2-neighbour x  ...  \\\n",
       "0        53.8812        22.4257              1.60        23.7794  ...   \n",
       "1        38.3539        35.8460              1.28        40.5901  ...   \n",
       "2        22.7444        16.3405              1.28        41.8245  ...   \n",
       "3        14.4300        53.9390              1.28        52.5371  ...   \n",
       "4        30.5916        25.3170              1.28        28.2009  ...   \n",
       "\n",
       "   4-faced  5-faced  6-faced  7-faced  8-faced  9-faced  10-faced  11-faced  \\\n",
       "0      1.0      3.0      4.0      4.0      1.0      0.0       0.0       0.0   \n",
       "1      0.0      1.0     10.0      4.0      0.0      0.0       0.0       0.0   \n",
       "2      1.0      1.0      9.0      4.0      2.0      0.0       0.0       0.0   \n",
       "3      1.0      3.0      3.0      3.0      0.0      0.0       0.0       0.0   \n",
       "4      0.0      0.0     12.0      0.0      0.0      0.0       0.0       0.0   \n",
       "\n",
       "   12-faced  13-faced  \n",
       "0       0.0       0.0  \n",
       "1       0.0       0.0  \n",
       "2       0.0       0.0  \n",
       "3       0.0       0.0  \n",
       "4       0.0       0.0  \n",
       "\n",
       "[5 rows x 98 columns]"
      ]
     },
     "execution_count": 2,
     "metadata": {},
     "output_type": "execute_result"
    }
   ],
   "source": [
    "import pandas as pd\n",
    "\n",
    "df = pd.read_csv('../../Output/output_1.csv')\n",
    "df = pd.concat([\n",
    "    pd.read_csv(F'../../Output/output_{i}.csv').drop(columns=[x for x in df.columns if 'id' in x]) \n",
    "    for i in range(1, 12)])\n",
    "\n",
    "df.head()"
   ]
  },
  {
   "cell_type": "code",
   "execution_count": 3,
   "metadata": {},
   "outputs": [
    {
     "data": {
      "text/plain": [
       "(148500, 98)"
      ]
     },
     "execution_count": 3,
     "metadata": {},
     "output_type": "execute_result"
    }
   ],
   "source": [
    "df.shape"
   ]
  },
  {
   "cell_type": "code",
   "execution_count": 47,
   "metadata": {},
   "outputs": [],
   "source": [
    "import torch\n",
    "import numpy as np\n",
    "from sklearn.model_selection import train_test_split\n",
    "from torch.utils.data import TensorDataset, DataLoader"
   ]
  },
  {
   "cell_type": "code",
   "execution_count": 48,
   "metadata": {},
   "outputs": [],
   "source": [
    "data = df.to_numpy()\n",
    "data = data.astype(np.float32)\n",
    "\n",
    "inp_data_train, inp_data_test, out_data_train, out_data_test = train_test_split(\n",
    "    data[:, :-14], data[:, -14:], test_size=0.2, random_state=123)\n",
    "\n",
    "inp_data_test, inp_data_valid, out_data_test, out_data_valid = train_test_split(\n",
    "    inp_data_test, out_data_test, test_size=0.5, random_state=123)\n",
    "\n",
    "inp_data_test , out_data_test  = \\\n",
    "    torch.from_numpy(inp_data_test) , torch.from_numpy(out_data_test)\n",
    "\n",
    "inp_data_train, out_data_train = \\\n",
    "    torch.from_numpy(inp_data_train), torch.from_numpy(out_data_train)\n",
    "\n",
    "inp_data_valid, out_data_valid = \\\n",
    "    torch.from_numpy(inp_data_valid), torch.from_numpy(out_data_valid)"
   ]
  },
  {
   "cell_type": "code",
   "execution_count": 49,
   "metadata": {},
   "outputs": [],
   "source": [
    "train_dataset = TensorDataset(inp_data_train, out_data_train)\n",
    "valid_dataset = TensorDataset(inp_data_valid, out_data_valid)\n",
    "test_dataset  = TensorDataset(inp_data_test , out_data_test )"
   ]
  },
  {
   "cell_type": "code",
   "execution_count": 50,
   "metadata": {},
   "outputs": [],
   "source": [
    "BATCH_SIZE = 256 # todo: more stable updating model parameters."
   ]
  },
  {
   "cell_type": "code",
   "execution_count": 51,
   "metadata": {},
   "outputs": [],
   "source": [
    "train_loader = torch.utils.data.DataLoader(train_dataset, batch_size=BATCH_SIZE)\n",
    "valid_loader = torch.utils.data.DataLoader(valid_dataset, batch_size=BATCH_SIZE)\n",
    "test_loader  = torch.utils.data.DataLoader(test_dataset , batch_size=BATCH_SIZE)"
   ]
  },
  {
   "cell_type": "code",
   "execution_count": 52,
   "metadata": {},
   "outputs": [],
   "source": [
    "import torch.nn as nn\n",
    "import torch.nn.functional as nf\n",
    "\n",
    "class RegressionMultiout(nn.Module):\n",
    "    def __init__(self, inputs_size, hidden_size, output_size):\n",
    "        super(RegressionMultiout, self).__init__()\n",
    "        \n",
    "        self.vorono = nn.Sequential(\n",
    "            nn.Linear(inputs_size, hidden_size),\n",
    "            nn.ReLU(),\n",
    "            nn.Dropout(0.2),\n",
    "            nn.Linear(hidden_size, hidden_size),\n",
    "            nn.ReLU(),\n",
    "            # todo: add for more complex model.\n",
    "#             nn.Linear(hidden_size, hidden_size),\n",
    "#             nn.ReLU(),\n",
    "#             nn.Dropout(0.1),\n",
    "#             nn.Linear(hidden_size, hidden_size),\n",
    "#             nn.ReLU(),\n",
    "#             nn.Linear(hidden_size, hidden_size),\n",
    "#             nn.ReLU(),\n",
    "#             nn.Dropout(0.1),\n",
    "#             nn.Linear(hidden_size, hidden_size),\n",
    "#             nn.ReLU(),\n",
    "            nn.Linear(hidden_size, output_size),\n",
    "        )\n",
    "        \n",
    "        self.init_weights()\n",
    "        \n",
    "    def init_weights(self):\n",
    "        \n",
    "        def inner_init_weights(layer):\n",
    "            if not isinstance(layer, nn.Linear):\n",
    "                return\n",
    "            \n",
    "            nn.init.xavier_uniform_(layer.weight.data)\n",
    "            nn.init.constant_(layer.bias.data, 0.1)\n",
    "            \n",
    "        self.vorono.apply(inner_init_weights)\n",
    "\n",
    "        \n",
    "    def forward(self, x):\n",
    "        return self.vorono(x)"
   ]
  },
  {
   "cell_type": "code",
   "execution_count": 53,
   "metadata": {},
   "outputs": [],
   "source": [
    "# todo: change HIDDEN_SIZE for more complex model. (less overfit and loss. more epoch is needed!)\n",
    "INPUT_SIZE, HIDDEN_SIZE, OUTPUT_SIZE = inp_data_train.shape[1], 35, out_data_train.shape[1]"
   ]
  },
  {
   "cell_type": "code",
   "execution_count": 54,
   "metadata": {},
   "outputs": [
    {
     "data": {
      "text/plain": [
       "RegressionMultiout(\n",
       "  (vorono): Sequential(\n",
       "    (0): Linear(in_features=84, out_features=35, bias=True)\n",
       "    (1): ReLU()\n",
       "    (2): Dropout(p=0.2, inplace=False)\n",
       "    (3): Linear(in_features=35, out_features=35, bias=True)\n",
       "    (4): ReLU()\n",
       "    (5): Linear(in_features=35, out_features=14, bias=True)\n",
       "  )\n",
       ")"
      ]
     },
     "execution_count": 54,
     "metadata": {},
     "output_type": "execute_result"
    }
   ],
   "source": [
    "model = RegressionMultiout(INPUT_SIZE, HIDDEN_SIZE, OUTPUT_SIZE)\n",
    "model"
   ]
  },
  {
   "cell_type": "code",
   "execution_count": 55,
   "metadata": {},
   "outputs": [],
   "source": [
    "from torch.optim import AdamW\n",
    "from torch.optim.lr_scheduler import StepLR\n",
    "\n",
    "num_epochs = 300\n",
    "batch_size_train = len(train_loader)\n",
    "batch_size_valid = len(valid_loader)\n",
    "\n",
    "criterion = torch.nn.MSELoss()\n",
    "optimizer = AdamW(model.parameters(), lr=5e-3)\n",
    "scheduler = StepLR(optimizer, step_size=10, gamma=0.9) "
   ]
  },
  {
   "cell_type": "code",
   "execution_count": 56,
   "metadata": {},
   "outputs": [
    {
     "name": "stdout",
     "output_type": "stream",
     "text": [
      "005.learning_rate: 0.00500\n",
      "005.running_loss: 1.18781\n",
      "010.learning_rate: 0.00450\n",
      "010.running_loss: 1.07537\n",
      "015.learning_rate: 0.00450\n",
      "015.running_loss: 1.04642\n",
      "020.learning_rate: 0.00405\n",
      "020.running_loss: 1.03287\n",
      "025.learning_rate: 0.00405\n",
      "025.running_loss: 1.01988\n",
      "030.learning_rate: 0.00365\n",
      "030.running_loss: 1.02038\n",
      "035.learning_rate: 0.00365\n",
      "035.running_loss: 1.00137\n",
      "040.learning_rate: 0.00328\n",
      "040.running_loss: 1.00479\n",
      "045.learning_rate: 0.00328\n",
      "045.running_loss: 0.99712\n",
      "050.learning_rate: 0.00295\n",
      "050.running_loss: 1.00204\n",
      "055.learning_rate: 0.00295\n",
      "055.running_loss: 0.97865\n",
      "060.learning_rate: 0.00266\n",
      "060.running_loss: 0.97805\n",
      "065.learning_rate: 0.00266\n",
      "065.running_loss: 0.97306\n",
      "070.learning_rate: 0.00239\n",
      "070.running_loss: 0.97522\n",
      "075.learning_rate: 0.00239\n",
      "075.running_loss: 0.96514\n",
      "080.learning_rate: 0.00215\n",
      "080.running_loss: 0.97259\n",
      "085.learning_rate: 0.00215\n",
      "085.running_loss: 0.96950\n",
      "090.learning_rate: 0.00194\n",
      "090.running_loss: 0.96312\n",
      "095.learning_rate: 0.00194\n",
      "095.running_loss: 0.95523\n",
      "100.learning_rate: 0.00174\n",
      "100.running_loss: 0.94735\n",
      "105.learning_rate: 0.00174\n",
      "105.running_loss: 0.94989\n",
      "110.learning_rate: 0.00157\n",
      "110.running_loss: 0.95900\n",
      "115.learning_rate: 0.00157\n",
      "115.running_loss: 0.93472\n",
      "120.learning_rate: 0.00141\n",
      "120.running_loss: 0.94796\n",
      "125.learning_rate: 0.00141\n",
      "125.running_loss: 0.94045\n",
      "130.learning_rate: 0.00127\n",
      "130.running_loss: 0.93280\n",
      "135.learning_rate: 0.00127\n",
      "135.running_loss: 0.93385\n",
      "140.learning_rate: 0.00114\n",
      "140.running_loss: 0.92919\n",
      "145.learning_rate: 0.00114\n",
      "145.running_loss: 0.92731\n",
      "150.learning_rate: 0.00103\n",
      "150.running_loss: 0.92650\n",
      "155.learning_rate: 0.00103\n",
      "155.running_loss: 0.92267\n",
      "160.learning_rate: 0.00093\n",
      "160.running_loss: 0.92354\n",
      "165.learning_rate: 0.00093\n",
      "165.running_loss: 0.91573\n",
      "170.learning_rate: 0.00083\n",
      "170.running_loss: 0.91620\n",
      "175.learning_rate: 0.00083\n",
      "175.running_loss: 0.90101\n",
      "180.learning_rate: 0.00075\n",
      "180.running_loss: 0.90368\n",
      "185.learning_rate: 0.00075\n",
      "185.running_loss: 0.89920\n",
      "190.learning_rate: 0.00068\n",
      "190.running_loss: 0.89570\n",
      "195.learning_rate: 0.00068\n",
      "195.running_loss: 0.89801\n",
      "200.learning_rate: 0.00061\n",
      "200.running_loss: 0.88999\n",
      "205.learning_rate: 0.00061\n",
      "205.running_loss: 0.88267\n",
      "210.learning_rate: 0.00055\n",
      "210.running_loss: 0.88474\n",
      "215.learning_rate: 0.00055\n",
      "215.running_loss: 0.87433\n",
      "220.learning_rate: 0.00049\n",
      "220.running_loss: 0.87745\n",
      "225.learning_rate: 0.00049\n",
      "225.running_loss: 0.87258\n",
      "230.learning_rate: 0.00044\n",
      "230.running_loss: 0.86833\n",
      "235.learning_rate: 0.00044\n",
      "235.running_loss: 0.86430\n",
      "240.learning_rate: 0.00040\n",
      "240.running_loss: 0.86492\n",
      "245.learning_rate: 0.00040\n",
      "245.running_loss: 0.86169\n",
      "250.learning_rate: 0.00036\n",
      "250.running_loss: 0.86099\n",
      "255.learning_rate: 0.00036\n",
      "255.running_loss: 0.85842\n",
      "260.learning_rate: 0.00032\n",
      "260.running_loss: 0.86204\n",
      "265.learning_rate: 0.00032\n",
      "265.running_loss: 0.85666\n",
      "270.learning_rate: 0.00029\n",
      "270.running_loss: 0.85538\n",
      "275.learning_rate: 0.00029\n",
      "275.running_loss: 0.85219\n",
      "280.learning_rate: 0.00026\n",
      "280.running_loss: 0.85074\n",
      "285.learning_rate: 0.00026\n",
      "285.running_loss: 0.84776\n",
      "290.learning_rate: 0.00024\n",
      "290.running_loss: 0.84847\n",
      "295.learning_rate: 0.00024\n",
      "295.running_loss: 0.84611\n",
      "300.learning_rate: 0.00021\n",
      "300.running_loss: 0.84508\n"
     ]
    },
    {
     "data": {
      "image/png": "[encoded data removed]",
      "text/plain": [
       "<Figure size 432x288 with 1 Axes>"
      ]
     },
     "metadata": {
      "needs_background": "light"
     },
     "output_type": "display_data"
    }
   ],
   "source": [
    "import matplotlib.pyplot as plt\n",
    "\n",
    "train_loss = []\n",
    "validation_loss = []\n",
    "\n",
    "for epoch in range(1, num_epochs + 1):\n",
    "    \n",
    "    running_loss = 0\n",
    "    for inp_train, out_train in train_loader:\n",
    "        \n",
    "        prediction = model(inp_train)\n",
    "        loss = criterion(prediction, out_train)\n",
    "        \n",
    "        optimizer.zero_grad()\n",
    "        loss.backward()\n",
    "        optimizer.step()\n",
    "        \n",
    "        running_loss += loss.item()\n",
    "    \n",
    "    with torch.no_grad():\n",
    "        \n",
    "        test_loss = 0\n",
    "        for inp_valid, out_valid in valid_loader:\n",
    "        \n",
    "            prediction = model(inp_valid)\n",
    "            loss = criterion(prediction, out_valid)\n",
    "            test_loss += loss.item()\n",
    "        \n",
    "    scheduler.step()\n",
    "    \n",
    "    running_loss /= batch_size_train\n",
    "    train_loss.append(running_loss)\n",
    "    \n",
    "    test_loss /= batch_size_valid\n",
    "    validation_loss.append(test_loss)\n",
    "    \n",
    "    if epoch % 5 == 0:\n",
    "        print('%03d.learning_rate: %.05f' % (epoch, optimizer.param_groups[0][\"lr\"]))\n",
    "        print('%03d.running_loss: %.05f' % (epoch, running_loss))\n",
    "    \n",
    "plt.plot(range(1, num_epochs - 4), train_loss[5:], label='training loss')\n",
    "plt.plot(range(1, num_epochs - 4), validation_loss[5:], label='validation loss')\n",
    "plt.xlabel('Number of epochs')\n",
    "plt.ylabel('Training Loss')\n",
    "plt.legend()\n",
    "plt.show()"
   ]
  },
  {
   "cell_type": "code",
   "execution_count": 76,
   "metadata": {},
   "outputs": [],
   "source": [
    "predictions = model(inp_data_test)"
   ]
  },
  {
   "cell_type": "code",
   "execution_count": 77,
   "metadata": {},
   "outputs": [
    {
     "name": "stdout",
     "output_type": "stream",
     "text": [
      "Prediction : [13.  0.  0.  0.  0.  3.  6.  3.  0.  0. -0.  0.  0. -0.]\n",
      "Real output: [14.  0.  0.  0.  2.  2.  4.  4.  2.  0.  0.  0.  0.  0.]\n"
     ]
    }
   ],
   "source": [
    "idx = np.random.randint(0, predictions.shape[0])\n",
    "print('Prediction :', np.round(predictions[idx].detach().numpy(), 0))\n",
    "print('Real output:', out_data_test[idx].detach().numpy())"
   ]
  },
  {
   "cell_type": "code",
   "execution_count": 78,
   "metadata": {},
   "outputs": [
    {
     "data": {
      "text/plain": [
       "<BarContainer object of 13 artists>"
      ]
     },
     "execution_count": 78,
     "metadata": {},
     "output_type": "execute_result"
    },
    {
     "data": {
      "image/png": "[encoded data removed]",
      "text/plain": [
       "<Figure size 2160x1080 with 2 Axes>"
      ]
     },
     "metadata": {
      "needs_background": "light"
     },
     "output_type": "display_data"
    }
   ],
   "source": [
    "prediction_count_list = [0,0,0,0,0,0,0,0,0,0,0,0,0,0]\n",
    "real_count_list = [0,0,0,0,0,0,0,0,0,0,0,0,0,0]\n",
    "\n",
    "for i in range(0, predictions.shape[0]):\n",
    "    for j in range(0, len(np.round(predictions[i].detach().numpy(), 0))):\n",
    "        prediction_count_list[j] += np.round(predictions[i].detach().numpy(), 0)[j]\n",
    "        real_count_list[j] += out_data_test[i].detach().numpy()[j]\n",
    "        \n",
    "real_count_list.pop(0)\n",
    "prediction_count_list.pop(0)\n",
    "\n",
    "real_sum = 0\n",
    "pred_sum = 0\n",
    "\n",
    "for s in real_count_list:\n",
    "    real_sum += s\n",
    "\n",
    "for v in prediction_count_list:\n",
    "    pred_sum += v\n",
    "\n",
    "labels = [str(z)+'-face' for z in range(1,len(real_count_list)+1)]\n",
    "real_data = [float(x/real_sum) for x in real_count_list]\n",
    "pred_data = [float(x/pred_sum) for x in prediction_count_list]\n",
    "\n",
    "fig, ax = plt.subplots(1,2,figsize=(30, 15))\n",
    "\n",
    "ax[0].bar(labels, real_data, label='REAL')\n",
    "ax[1].bar(labels, pred_data, label='PRED')"
   ]
  },
  {
   "cell_type": "code",
   "execution_count": 79,
   "metadata": {},
   "outputs": [],
   "source": [
    "predictions = model(inp_data_train)"
   ]
  },
  {
   "cell_type": "code",
   "execution_count": 80,
   "metadata": {},
   "outputs": [
    {
     "name": "stdout",
     "output_type": "stream",
     "text": [
      "Prediction : [12.  0.  0.  0.  1.  3.  5.  3.  1.  0.  0.  0.  0.  0.]\n",
      "Real output: [13.  0.  0.  0.  0.  5.  2.  6.  0.  0.  0.  0.  0.  0.]\n"
     ]
    }
   ],
   "source": [
    "idx = np.random.randint(0, predictions.shape[0])\n",
    "print('Prediction :', np.round(predictions[idx].detach().numpy(), 0))\n",
    "print('Real output:', out_data_train[idx].detach().numpy())"
   ]
  },
  {
   "cell_type": "code",
   "execution_count": 81,
   "metadata": {},
   "outputs": [
    {
     "data": {
      "text/plain": [
       "<BarContainer object of 13 artists>"
      ]
     },
     "execution_count": 81,
     "metadata": {},
     "output_type": "execute_result"
    },
    {
     "data": {
      "image/png": "[encoded data removed]",
      "text/plain": [
       "<Figure size 2160x1080 with 2 Axes>"
      ]
     },
     "metadata": {
      "needs_background": "light"
     },
     "output_type": "display_data"
    }
   ],
   "source": [
    "prediction_count_list = [0,0,0,0,0,0,0,0,0,0,0,0,0,0]\n",
    "real_count_list = [0,0,0,0,0,0,0,0,0,0,0,0,0,0]\n",
    "\n",
    "for i in range(0, predictions.shape[0]):\n",
    "    for j in range(0, len(np.round(predictions[i].detach().numpy(), 0))):\n",
    "        prediction_count_list[j] += np.round(predictions[i].detach().numpy(), 0)[j]\n",
    "        real_count_list[j] += out_data_train[i].detach().numpy()[j]\n",
    "        \n",
    "real_count_list.pop(0)\n",
    "prediction_count_list.pop(0)\n",
    "\n",
    "real_sum = 0\n",
    "pred_sum = 0\n",
    "\n",
    "for s in real_count_list:\n",
    "    real_sum += s\n",
    "\n",
    "for v in prediction_count_list:\n",
    "    pred_sum += v\n",
    "\n",
    "labels = [str(z)+'-face' for z in range(1,len(real_count_list)+1)]\n",
    "real_data = [float(x/real_sum) for x in real_count_list]\n",
    "pred_data = [float(x/pred_sum) for x in prediction_count_list]\n",
    "\n",
    "fig, ax = plt.subplots(1,2,figsize=(30, 15))\n",
    "\n",
    "ax[0].bar(labels, real_data, label='REAL')\n",
    "ax[1].bar(labels, pred_data, label='PRED')"
   ]
  },
  {
   "cell_type": "code",
   "execution_count": 75,
   "metadata": {},
   "outputs": [],
   "source": [
    "model_scripted = torch.jit.script(model)\n",
    "model_scripted.save('sutovoro_torch_model_scripted.pt')"
   ]
  }
 ],
 "metadata": {
  "kernelspec": {
   "display_name": "Python 3 (ipykernel)",
   "language": "python",
   "name": "python3"
  },
  "language_info": {
   "codemirror_mode": {
    "name": "ipython",
    "version": 3
   },
   "file_extension": ".py",
   "mimetype": "text/x-python",
   "name": "python",
   "nbconvert_exporter": "python",
   "pygments_lexer": "ipython3",
   "version": "3.9.6"
  }
 },
 "nbformat": 4,
 "nbformat_minor": 4
}
